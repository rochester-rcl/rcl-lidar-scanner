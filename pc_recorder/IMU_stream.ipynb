{
 "cells": [
  {
   "cell_type": "code",
   "execution_count": 4,
   "metadata": {},
   "outputs": [
    {
     "ename": "AttributeError",
     "evalue": "'pyrealsense2.pyrealsense2.pipeline' object has no attribute 'get_motion_data'",
     "output_type": "error",
     "traceback": [
      "\u001b[1;31m---------------------------------------------------------------------------\u001b[0m",
      "\u001b[1;31mAttributeError\u001b[0m                            Traceback (most recent call last)",
      "\u001b[1;32m<ipython-input-4-384bc7cc9e91>\u001b[0m in \u001b[0;36m<module>\u001b[1;34m\u001b[0m\n\u001b[0;32m     25\u001b[0m         \u001b[0mf\u001b[0m \u001b[1;33m=\u001b[0m \u001b[0mp\u001b[0m\u001b[1;33m.\u001b[0m\u001b[0mwait_for_frames\u001b[0m\u001b[1;33m(\u001b[0m\u001b[1;33m)\u001b[0m\u001b[1;33m\u001b[0m\u001b[1;33m\u001b[0m\u001b[0m\n\u001b[0;32m     26\u001b[0m \u001b[1;33m\u001b[0m\u001b[0m\n\u001b[1;32m---> 27\u001b[1;33m         \u001b[0mprint\u001b[0m\u001b[1;33m(\u001b[0m\u001b[0mp\u001b[0m\u001b[1;33m.\u001b[0m\u001b[0mget_motion_data\u001b[0m\u001b[1;33m(\u001b[0m\u001b[1;33m)\u001b[0m\u001b[1;33m)\u001b[0m\u001b[1;33m\u001b[0m\u001b[1;33m\u001b[0m\u001b[0m\n\u001b[0m\u001b[0;32m     28\u001b[0m \u001b[1;33m\u001b[0m\u001b[0m\n\u001b[0;32m     29\u001b[0m         \u001b[1;31m#accel = accel_data(f[0].as_motion_frame().get_motion_data())\u001b[0m\u001b[1;33m\u001b[0m\u001b[1;33m\u001b[0m\u001b[1;33m\u001b[0m\u001b[0m\n",
      "\u001b[1;31mAttributeError\u001b[0m: 'pyrealsense2.pyrealsense2.pipeline' object has no attribute 'get_motion_data'"
     ]
    }
   ],
   "source": [
    "import pyrealsense2 as rs\n",
    "import numpy as np\n",
    "import time\n",
    "\n",
    "def initialize_camera():\n",
    "    # start the frames pipe\n",
    "    p = rs.pipeline()\n",
    "    conf = rs.config()\n",
    "    conf.enable_stream(rs.stream.accel)\n",
    "    conf.enable_stream(rs.stream.gyro)\n",
    "    prof = p.start(conf)\n",
    "    return p\n",
    "\n",
    "\n",
    "def gyro_data(gyro):\n",
    "    return np.asarray([gyro.x, gyro.y, gyro.z])\n",
    "\n",
    "\n",
    "def accel_data(accel):\n",
    "    return np.asarray([accel.x, accel.y, accel.z])\n",
    "\n",
    "p = initialize_camera()\n",
    "try:\n",
    "    while True:\n",
    "        f = p.wait_for_frames()\n",
    "        \n",
    "        \n",
    "        \n",
    "        #accel = accel_data(f[0].as_motion_frame().get_motion_data())\n",
    "        #gyro = gyro_data(f[1].as_motion_frame().get_motion_data())\n",
    "        \n",
    "        #print(\"accelerometer: \", accel)\n",
    "        #print(\"gyro: \", gyro)\n",
    "        time.sleep(1)\n",
    "\n",
    "finally:\n",
    "    p.stop()"
   ]
  },
  {
   "cell_type": "code",
   "execution_count": 5,
   "metadata": {},
   "outputs": [
    {
     "data": {
      "text/plain": [
       "<pyrealsense2.frameset MOTION_XYZ32F MOTION_XYZ32F #1>"
      ]
     },
     "execution_count": 5,
     "metadata": {},
     "output_type": "execute_result"
    }
   ],
   "source": [
    "f"
   ]
  },
  {
   "cell_type": "code",
   "execution_count": 6,
   "metadata": {},
   "outputs": [
    {
     "name": "stdout",
     "output_type": "stream",
     "text": [
      "accelerometer:  [ 0.12748645 -9.53206348 -0.44129923]\n",
      "gyro:  [0.00174533 0.00174533 0.        ]\n",
      "accelerometer:  [ 0.0392266  -9.74780941 -0.36284605]\n",
      "gyro:  [-0.00174533  0.00523599  0.        ]\n",
      "accelerometer:  [ 0.0588399  -9.75761604 -0.34323275]\n",
      "gyro:  [-0.00174533  0.00349066  0.        ]\n",
      "accelerometer:  [ 0.0392266  -9.7870369  -0.33342609]\n",
      "gyro:  [-0.00523599  0.00174533  0.00349066]\n",
      "accelerometer:  [ 0.0392266  -9.76742363 -0.34323275]\n",
      "gyro:  [0. 0. 0.]\n",
      "accelerometer:  [ 0.0588399  -9.75761604 -0.34323275]\n",
      "gyro:  [-0.00349066  0.00174533  0.00174533]\n",
      "accelerometer:  [ 0.08825985 -9.71838951 -0.24516624]\n",
      "gyro:  [-0.00523599  0.00872665 -0.00174533]\n",
      "accelerometer:  [ 0.0784532  -9.75761604 -0.45110589]\n",
      "gyro:  [0.01919862 0.         0.01047198]\n",
      "accelerometer:  [ 0.0784532  -9.71838951 -0.34323275]\n",
      "gyro:  [ 0.         -0.00349066  0.        ]\n",
      "accelerometer:  [ 0.0784532  -9.74780941 -0.2745862 ]\n",
      "gyro:  [0.00698132 0.         0.00174533]\n",
      "accelerometer:  [ 0.20593965 -9.67916298  0.        ]\n",
      "gyro:  [0.         0.02094395 0.01396263]\n",
      "accelerometer:  [ 0.0392266  -9.98316956 -0.63743222]\n",
      "gyro:  [-0.12740904  0.21991149 -0.01047198]\n",
      "accelerometer:  [-1.19641125 -7.02156115 -6.50180864]\n",
      "gyro:  [-0.28972465  0.          0.1134464 ]\n",
      "accelerometer:  [-0.40207264 -4.09917974 -8.74753189]\n",
      "gyro:  [-0.30019662  0.02094395 -0.02792527]\n",
      "accelerometer:  [-0.45110589 -3.89323997 -8.85540485]\n",
      "gyro:  [-0.00174533  0.01396263  0.00349066]\n",
      "accelerometer:  [-0.34323275 -3.85401344 -8.66907883]\n",
      "gyro:  [-0.00698132 -0.01047198  0.00174533]\n",
      "accelerometer:  [-0.50994581 -3.85401344 -8.86521149]\n",
      "gyro:  [ 0.          0.00174533 -0.00174533]\n",
      "accelerometer:  [-0.50994581 -3.85401344 -8.83579159]\n",
      "gyro:  [-0.00523599  0.00174533  0.        ]\n",
      "accelerometer:  [-0.49033248 -3.83439994 -8.84559822]\n",
      "gyro:  [ 0.         -0.00174533  0.00349066]\n"
     ]
    },
    {
     "ename": "KeyboardInterrupt",
     "evalue": "",
     "output_type": "error",
     "traceback": [
      "\u001b[1;31m---------------------------------------------------------------------------\u001b[0m",
      "\u001b[1;31mKeyboardInterrupt\u001b[0m                         Traceback (most recent call last)",
      "\u001b[1;32m<ipython-input-6-981d08453511>\u001b[0m in \u001b[0;36m<module>\u001b[1;34m\u001b[0m\n\u001b[0;32m     29\u001b[0m         \u001b[0mprint\u001b[0m\u001b[1;33m(\u001b[0m\u001b[1;34m\"accelerometer: \"\u001b[0m\u001b[1;33m,\u001b[0m \u001b[0maccel\u001b[0m\u001b[1;33m)\u001b[0m\u001b[1;33m\u001b[0m\u001b[1;33m\u001b[0m\u001b[0m\n\u001b[0;32m     30\u001b[0m         \u001b[0mprint\u001b[0m\u001b[1;33m(\u001b[0m\u001b[1;34m\"gyro: \"\u001b[0m\u001b[1;33m,\u001b[0m \u001b[0mgyro\u001b[0m\u001b[1;33m)\u001b[0m\u001b[1;33m\u001b[0m\u001b[1;33m\u001b[0m\u001b[0m\n\u001b[1;32m---> 31\u001b[1;33m         \u001b[0mtime\u001b[0m\u001b[1;33m.\u001b[0m\u001b[0msleep\u001b[0m\u001b[1;33m(\u001b[0m\u001b[1;36m1\u001b[0m\u001b[1;33m)\u001b[0m\u001b[1;33m\u001b[0m\u001b[1;33m\u001b[0m\u001b[0m\n\u001b[0m\u001b[0;32m     32\u001b[0m \u001b[1;33m\u001b[0m\u001b[0m\n\u001b[0;32m     33\u001b[0m \u001b[1;32mfinally\u001b[0m\u001b[1;33m:\u001b[0m\u001b[1;33m\u001b[0m\u001b[1;33m\u001b[0m\u001b[0m\n",
      "\u001b[1;31mKeyboardInterrupt\u001b[0m: "
     ]
    }
   ],
   "source": [
    "import pyrealsense2 as rs\n",
    "import numpy as np\n",
    "import time\n",
    "\n",
    "\n",
    "def initialize_camera():\n",
    "    # start the frames pipe\n",
    "    p = rs.pipeline()\n",
    "    conf = rs.config()\n",
    "    conf.enable_stream(rs.stream.accel)\n",
    "    conf.enable_stream(rs.stream.gyro)\n",
    "    prof = p.start(conf)\n",
    "    return p\n",
    "\n",
    "\n",
    "def gyro_data(gyro):\n",
    "    return np.asarray([gyro.x, gyro.y, gyro.z])\n",
    "\n",
    "\n",
    "def accel_data(accel):\n",
    "    return np.asarray([accel.x, accel.y, accel.z])\n",
    "\n",
    "p = initialize_camera()\n",
    "try:\n",
    "    while True:\n",
    "        f = p.wait_for_frames()\n",
    "        accel = accel_data(f[0].as_motion_frame().get_motion_data())\n",
    "        gyro = gyro_data(f[1].as_motion_frame().get_motion_data())\n",
    "        print(\"accelerometer: \", accel)\n",
    "        print(\"gyro: \", gyro)\n",
    "        time.sleep(1)\n",
    "\n",
    "finally:\n",
    "    p.stop()"
   ]
  },
  {
   "cell_type": "code",
   "execution_count": null,
   "metadata": {},
   "outputs": [],
   "source": []
  }
 ],
 "metadata": {
  "kernelspec": {
   "display_name": "Python 3",
   "language": "python",
   "name": "python3"
  },
  "language_info": {
   "codemirror_mode": {
    "name": "ipython",
    "version": 3
   },
   "file_extension": ".py",
   "mimetype": "text/x-python",
   "name": "python",
   "nbconvert_exporter": "python",
   "pygments_lexer": "ipython3",
   "version": "3.7.6"
  }
 },
 "nbformat": 4,
 "nbformat_minor": 4
}
